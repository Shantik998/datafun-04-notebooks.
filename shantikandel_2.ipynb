{
 "cells": [
  {
   "cell_type": "markdown",
   "id": "913d3351-7122-4c71-8d37-2142709e9fad",
   "metadata": {},
   "source": [
    "## Task 2 -7.14.2 DataFrames"
   ]
  },
  {
   "cell_type": "code",
   "execution_count": 15,
   "id": "58bfb302-e534-4cd9-ba7b-1a0fcb9fb650",
   "metadata": {},
   "outputs": [],
   "source": [
    "import pandas as pd\n"
   ]
  },
  {
   "cell_type": "code",
   "execution_count": 50,
   "id": "8428d429-dac8-4eaa-937f-2b5f72049346",
   "metadata": {},
   "outputs": [],
   "source": [
    "scores_dict = {'will': [90, 80, 85], \n",
    "          'jarrod': [88, 92, 95], \n",
    "          'caleb': [86, 78, 82], \n",
    "          'shawn': [76, 84, 80], \n",
    "          'justin': [95, 91, 89]}"
   ]
  },
  {
   "cell_type": "code",
   "execution_count": 51,
   "id": "947359f0-74cb-4c91-9d90-02af5dd5a953",
   "metadata": {},
   "outputs": [],
   "source": [
    "scores = pd.DataFrame.from_dict(scores, orient='index', columns=['Exam1', 'Exam2', 'Exam3']).T"
   ]
  },
  {
   "cell_type": "code",
   "execution_count": 52,
   "id": "cf27d078-dd89-4351-8715-8cde6afcedd7",
   "metadata": {},
   "outputs": [
    {
     "data": {
      "text/html": [
       "<div>\n",
       "<style scoped>\n",
       "    .dataframe tbody tr th:only-of-type {\n",
       "        vertical-align: middle;\n",
       "    }\n",
       "\n",
       "    .dataframe tbody tr th {\n",
       "        vertical-align: top;\n",
       "    }\n",
       "\n",
       "    .dataframe thead th {\n",
       "        text-align: right;\n",
       "    }\n",
       "</style>\n",
       "<table border=\"1\" class=\"dataframe\">\n",
       "  <thead>\n",
       "    <tr style=\"text-align: right;\">\n",
       "      <th></th>\n",
       "      <th>will</th>\n",
       "      <th>jarrod</th>\n",
       "      <th>caleb</th>\n",
       "      <th>shawn</th>\n",
       "      <th>justin</th>\n",
       "    </tr>\n",
       "  </thead>\n",
       "  <tbody>\n",
       "    <tr>\n",
       "      <th>Exam1</th>\n",
       "      <td>90</td>\n",
       "      <td>88</td>\n",
       "      <td>86</td>\n",
       "      <td>76</td>\n",
       "      <td>95</td>\n",
       "    </tr>\n",
       "    <tr>\n",
       "      <th>Exam2</th>\n",
       "      <td>80</td>\n",
       "      <td>92</td>\n",
       "      <td>78</td>\n",
       "      <td>84</td>\n",
       "      <td>91</td>\n",
       "    </tr>\n",
       "    <tr>\n",
       "      <th>Exam3</th>\n",
       "      <td>85</td>\n",
       "      <td>95</td>\n",
       "      <td>82</td>\n",
       "      <td>80</td>\n",
       "      <td>89</td>\n",
       "    </tr>\n",
       "  </tbody>\n",
       "</table>\n",
       "</div>"
      ],
      "text/plain": [
       "       will  jarrod  caleb  shawn  justin\n",
       "Exam1    90      88     86     76      95\n",
       "Exam2    80      92     78     84      91\n",
       "Exam3    85      95     82     80      89"
      ]
     },
     "execution_count": 52,
     "metadata": {},
     "output_type": "execute_result"
    }
   ],
   "source": [
    "scores"
   ]
  },
  {
   "cell_type": "code",
   "execution_count": 53,
   "id": "dde5c011-ae68-49fa-998b-ab91fb8b18fa",
   "metadata": {},
   "outputs": [],
   "source": [
    "df = pd.DataFrame(scores)"
   ]
  },
  {
   "cell_type": "code",
   "execution_count": 54,
   "id": "f45958c5-b721-4d15-b3cc-803fdead9b15",
   "metadata": {},
   "outputs": [],
   "source": [
    "df.index = ['Exam1','Exam2','Exam3']"
   ]
  },
  {
   "cell_type": "code",
   "execution_count": 55,
   "id": "8802fbbd-5a58-4005-9bbd-0d197fda007c",
   "metadata": {},
   "outputs": [],
   "source": [
    "pg = {'preeti':['ram','shyam', 'hari'],'sushmita':['khadka', 'kandel', 'sapkota'],'ranjita':['gauko', 'saharko', 'timalsina']}"
   ]
  },
  {
   "cell_type": "code",
   "execution_count": 56,
   "id": "40530c0f-7ebe-4b4d-aae8-7dbb24a8e53e",
   "metadata": {},
   "outputs": [],
   "source": [
    "bf = pd.DataFrame(pg)"
   ]
  },
  {
   "cell_type": "code",
   "execution_count": 57,
   "id": "ef816e28-6a76-4325-af12-0942865a34d9",
   "metadata": {},
   "outputs": [
    {
     "data": {
      "text/plain": [
       "{'preeti': ['ram', 'shyam', 'hari'],\n",
       " 'sushmita': ['khadka', 'kandel', 'sapkota'],\n",
       " 'ranjita': ['gauko', 'saharko', 'timalsina']}"
      ]
     },
     "execution_count": 57,
     "metadata": {},
     "output_type": "execute_result"
    }
   ],
   "source": [
    "pg"
   ]
  },
  {
   "cell_type": "code",
   "execution_count": 58,
   "id": "eed844d6-a4ef-4abd-a2fa-13611841a41e",
   "metadata": {},
   "outputs": [
    {
     "data": {
      "text/html": [
       "<div>\n",
       "<style scoped>\n",
       "    .dataframe tbody tr th:only-of-type {\n",
       "        vertical-align: middle;\n",
       "    }\n",
       "\n",
       "    .dataframe tbody tr th {\n",
       "        vertical-align: top;\n",
       "    }\n",
       "\n",
       "    .dataframe thead th {\n",
       "        text-align: right;\n",
       "    }\n",
       "</style>\n",
       "<table border=\"1\" class=\"dataframe\">\n",
       "  <thead>\n",
       "    <tr style=\"text-align: right;\">\n",
       "      <th></th>\n",
       "      <th>preeti</th>\n",
       "      <th>sushmita</th>\n",
       "      <th>ranjita</th>\n",
       "    </tr>\n",
       "  </thead>\n",
       "  <tbody>\n",
       "    <tr>\n",
       "      <th>0</th>\n",
       "      <td>ram</td>\n",
       "      <td>khadka</td>\n",
       "      <td>gauko</td>\n",
       "    </tr>\n",
       "    <tr>\n",
       "      <th>1</th>\n",
       "      <td>shyam</td>\n",
       "      <td>kandel</td>\n",
       "      <td>saharko</td>\n",
       "    </tr>\n",
       "    <tr>\n",
       "      <th>2</th>\n",
       "      <td>hari</td>\n",
       "      <td>sapkota</td>\n",
       "      <td>timalsina</td>\n",
       "    </tr>\n",
       "  </tbody>\n",
       "</table>\n",
       "</div>"
      ],
      "text/plain": [
       "  preeti sushmita    ranjita\n",
       "0    ram   khadka      gauko\n",
       "1  shyam   kandel    saharko\n",
       "2   hari  sapkota  timalsina"
      ]
     },
     "execution_count": 58,
     "metadata": {},
     "output_type": "execute_result"
    }
   ],
   "source": [
    "bf"
   ]
  },
  {
   "cell_type": "code",
   "execution_count": 59,
   "id": "76874549-3f85-4ce1-a358-83463c46cf4d",
   "metadata": {},
   "outputs": [
    {
     "data": {
      "text/plain": [
       "Exam1    88\n",
       "Exam2    92\n",
       "Exam3    95\n",
       "Name: jarrod, dtype: int64"
      ]
     },
     "execution_count": 59,
     "metadata": {},
     "output_type": "execute_result"
    }
   ],
   "source": [
    "scores['jarrod']"
   ]
  },
  {
   "cell_type": "code",
   "execution_count": 60,
   "id": "16defbff-1d23-43d8-aaae-885af1b43ccc",
   "metadata": {},
   "outputs": [
    {
     "data": {
      "text/plain": [
       "Exam1    90\n",
       "Exam2    80\n",
       "Exam3    85\n",
       "Name: will, dtype: int64"
      ]
     },
     "execution_count": 60,
     "metadata": {},
     "output_type": "execute_result"
    }
   ],
   "source": [
    "scores['will']"
   ]
  },
  {
   "cell_type": "code",
   "execution_count": 66,
   "id": "8bbcc575-9f5f-4147-8bb9-35f0c92b0404",
   "metadata": {},
   "outputs": [
    {
     "data": {
      "text/plain": [
       "will      90\n",
       "jarrod    88\n",
       "caleb     86\n",
       "shawn     76\n",
       "justin    95\n",
       "Name: Exam1, dtype: int64"
      ]
     },
     "execution_count": 66,
     "metadata": {},
     "output_type": "execute_result"
    }
   ],
   "source": [
    "scores.loc['Exam1']"
   ]
  },
  {
   "cell_type": "code",
   "execution_count": 67,
   "id": "6e3f529d-33b9-409c-acd1-8ddd058b0bf6",
   "metadata": {},
   "outputs": [
    {
     "data": {
      "text/plain": [
       "will      80\n",
       "jarrod    92\n",
       "caleb     78\n",
       "shawn     84\n",
       "justin    91\n",
       "Name: Exam2, dtype: int64"
      ]
     },
     "execution_count": 67,
     "metadata": {},
     "output_type": "execute_result"
    }
   ],
   "source": [
    "scores.iloc[1]"
   ]
  },
  {
   "cell_type": "code",
   "execution_count": 68,
   "id": "293db8cb-33fb-4673-a753-21269232efce",
   "metadata": {},
   "outputs": [
    {
     "data": {
      "text/html": [
       "<div>\n",
       "<style scoped>\n",
       "    .dataframe tbody tr th:only-of-type {\n",
       "        vertical-align: middle;\n",
       "    }\n",
       "\n",
       "    .dataframe tbody tr th {\n",
       "        vertical-align: top;\n",
       "    }\n",
       "\n",
       "    .dataframe thead th {\n",
       "        text-align: right;\n",
       "    }\n",
       "</style>\n",
       "<table border=\"1\" class=\"dataframe\">\n",
       "  <thead>\n",
       "    <tr style=\"text-align: right;\">\n",
       "      <th></th>\n",
       "      <th>will</th>\n",
       "      <th>jarrod</th>\n",
       "      <th>caleb</th>\n",
       "      <th>shawn</th>\n",
       "      <th>justin</th>\n",
       "    </tr>\n",
       "  </thead>\n",
       "  <tbody>\n",
       "    <tr>\n",
       "      <th>Exam1</th>\n",
       "      <td>90</td>\n",
       "      <td>88</td>\n",
       "      <td>86</td>\n",
       "      <td>76</td>\n",
       "      <td>95</td>\n",
       "    </tr>\n",
       "    <tr>\n",
       "      <th>Exam2</th>\n",
       "      <td>80</td>\n",
       "      <td>92</td>\n",
       "      <td>78</td>\n",
       "      <td>84</td>\n",
       "      <td>91</td>\n",
       "    </tr>\n",
       "    <tr>\n",
       "      <th>Exam3</th>\n",
       "      <td>85</td>\n",
       "      <td>95</td>\n",
       "      <td>82</td>\n",
       "      <td>80</td>\n",
       "      <td>89</td>\n",
       "    </tr>\n",
       "  </tbody>\n",
       "</table>\n",
       "</div>"
      ],
      "text/plain": [
       "       will  jarrod  caleb  shawn  justin\n",
       "Exam1    90      88     86     76      95\n",
       "Exam2    80      92     78     84      91\n",
       "Exam3    85      95     82     80      89"
      ]
     },
     "execution_count": 68,
     "metadata": {},
     "output_type": "execute_result"
    }
   ],
   "source": [
    "scores.loc['Exam1':'Exam3']"
   ]
  },
  {
   "cell_type": "raw",
   "id": "3e46c23f-72f5-4835-ac60-3ff63b3801af",
   "metadata": {},
   "source": [
    "scores.iloc[['Exam1','Exam3']]"
   ]
  },
  {
   "cell_type": "code",
   "execution_count": 71,
   "id": "32040727-b6a6-4a25-870f-de2b72a43383",
   "metadata": {},
   "outputs": [
    {
     "data": {
      "text/html": [
       "<div>\n",
       "<style scoped>\n",
       "    .dataframe tbody tr th:only-of-type {\n",
       "        vertical-align: middle;\n",
       "    }\n",
       "\n",
       "    .dataframe tbody tr th {\n",
       "        vertical-align: top;\n",
       "    }\n",
       "\n",
       "    .dataframe thead th {\n",
       "        text-align: right;\n",
       "    }\n",
       "</style>\n",
       "<table border=\"1\" class=\"dataframe\">\n",
       "  <thead>\n",
       "    <tr style=\"text-align: right;\">\n",
       "      <th></th>\n",
       "      <th>caleb</th>\n",
       "      <th>justin</th>\n",
       "    </tr>\n",
       "  </thead>\n",
       "  <tbody>\n",
       "    <tr>\n",
       "      <th>Exam1</th>\n",
       "      <td>86</td>\n",
       "      <td>95</td>\n",
       "    </tr>\n",
       "    <tr>\n",
       "      <th>Exam2</th>\n",
       "      <td>78</td>\n",
       "      <td>91</td>\n",
       "    </tr>\n",
       "    <tr>\n",
       "      <th>Exam3</th>\n",
       "      <td>82</td>\n",
       "      <td>89</td>\n",
       "    </tr>\n",
       "  </tbody>\n",
       "</table>\n",
       "</div>"
      ],
      "text/plain": [
       "       caleb  justin\n",
       "Exam1     86      95\n",
       "Exam2     78      91\n",
       "Exam3     82      89"
      ]
     },
     "execution_count": 71,
     "metadata": {},
     "output_type": "execute_result"
    }
   ],
   "source": [
    "scores.loc['Exam1':'Exam3',['caleb','justin']]"
   ]
  },
  {
   "cell_type": "code",
   "execution_count": 72,
   "id": "3b244962-ca80-4107-9489-ae015f0b39b4",
   "metadata": {},
   "outputs": [
    {
     "data": {
      "text/html": [
       "<div>\n",
       "<style scoped>\n",
       "    .dataframe tbody tr th:only-of-type {\n",
       "        vertical-align: middle;\n",
       "    }\n",
       "\n",
       "    .dataframe tbody tr th {\n",
       "        vertical-align: top;\n",
       "    }\n",
       "\n",
       "    .dataframe thead th {\n",
       "        text-align: right;\n",
       "    }\n",
       "</style>\n",
       "<table border=\"1\" class=\"dataframe\">\n",
       "  <thead>\n",
       "    <tr style=\"text-align: right;\">\n",
       "      <th></th>\n",
       "      <th>will</th>\n",
       "      <th>jarrod</th>\n",
       "      <th>caleb</th>\n",
       "    </tr>\n",
       "  </thead>\n",
       "  <tbody>\n",
       "    <tr>\n",
       "      <th>Exam1</th>\n",
       "      <td>90</td>\n",
       "      <td>88</td>\n",
       "      <td>86</td>\n",
       "    </tr>\n",
       "    <tr>\n",
       "      <th>Exam3</th>\n",
       "      <td>85</td>\n",
       "      <td>95</td>\n",
       "      <td>82</td>\n",
       "    </tr>\n",
       "  </tbody>\n",
       "</table>\n",
       "</div>"
      ],
      "text/plain": [
       "       will  jarrod  caleb\n",
       "Exam1    90      88     86\n",
       "Exam3    85      95     82"
      ]
     },
     "execution_count": 72,
     "metadata": {},
     "output_type": "execute_result"
    }
   ],
   "source": [
    "scores.iloc[[0,2],0:3]"
   ]
  },
  {
   "cell_type": "code",
   "execution_count": 75,
   "id": "f6daaf0b-7e38-4695-b261-2b9f69d38c11",
   "metadata": {},
   "outputs": [
    {
     "data": {
      "text/html": [
       "<div>\n",
       "<style scoped>\n",
       "    .dataframe tbody tr th:only-of-type {\n",
       "        vertical-align: middle;\n",
       "    }\n",
       "\n",
       "    .dataframe tbody tr th {\n",
       "        vertical-align: top;\n",
       "    }\n",
       "\n",
       "    .dataframe thead th {\n",
       "        text-align: right;\n",
       "    }\n",
       "</style>\n",
       "<table border=\"1\" class=\"dataframe\">\n",
       "  <thead>\n",
       "    <tr style=\"text-align: right;\">\n",
       "      <th></th>\n",
       "      <th>will</th>\n",
       "      <th>jarrod</th>\n",
       "      <th>caleb</th>\n",
       "      <th>shawn</th>\n",
       "      <th>justin</th>\n",
       "    </tr>\n",
       "  </thead>\n",
       "  <tbody>\n",
       "    <tr>\n",
       "      <th>Exam1</th>\n",
       "      <td>90</td>\n",
       "      <td>88</td>\n",
       "      <td>86</td>\n",
       "      <td>76</td>\n",
       "      <td>95</td>\n",
       "    </tr>\n",
       "    <tr>\n",
       "      <th>Exam2</th>\n",
       "      <td>80</td>\n",
       "      <td>92</td>\n",
       "      <td>78</td>\n",
       "      <td>84</td>\n",
       "      <td>91</td>\n",
       "    </tr>\n",
       "    <tr>\n",
       "      <th>Exam3</th>\n",
       "      <td>85</td>\n",
       "      <td>95</td>\n",
       "      <td>82</td>\n",
       "      <td>80</td>\n",
       "      <td>89</td>\n",
       "    </tr>\n",
       "  </tbody>\n",
       "</table>\n",
       "</div>"
      ],
      "text/plain": [
       "       will  jarrod  caleb  shawn  justin\n",
       "Exam1    90      88     86     76      95\n",
       "Exam2    80      92     78     84      91\n",
       "Exam3    85      95     82     80      89"
      ]
     },
     "execution_count": 75,
     "metadata": {},
     "output_type": "execute_result"
    }
   ],
   "source": [
    "scores[scores>=75]"
   ]
  },
  {
   "cell_type": "code",
   "execution_count": 77,
   "id": "49668067-664d-40b8-9cb3-6cd384214c64",
   "metadata": {},
   "outputs": [
    {
     "data": {
      "text/html": [
       "<div>\n",
       "<style scoped>\n",
       "    .dataframe tbody tr th:only-of-type {\n",
       "        vertical-align: middle;\n",
       "    }\n",
       "\n",
       "    .dataframe tbody tr th {\n",
       "        vertical-align: top;\n",
       "    }\n",
       "\n",
       "    .dataframe thead th {\n",
       "        text-align: right;\n",
       "    }\n",
       "</style>\n",
       "<table border=\"1\" class=\"dataframe\">\n",
       "  <thead>\n",
       "    <tr style=\"text-align: right;\">\n",
       "      <th></th>\n",
       "      <th>will</th>\n",
       "      <th>jarrod</th>\n",
       "      <th>caleb</th>\n",
       "      <th>shawn</th>\n",
       "      <th>justin</th>\n",
       "    </tr>\n",
       "  </thead>\n",
       "  <tbody>\n",
       "    <tr>\n",
       "      <th>Exam1</th>\n",
       "      <td>NaN</td>\n",
       "      <td>88.0</td>\n",
       "      <td>86.0</td>\n",
       "      <td>NaN</td>\n",
       "      <td>NaN</td>\n",
       "    </tr>\n",
       "    <tr>\n",
       "      <th>Exam2</th>\n",
       "      <td>NaN</td>\n",
       "      <td>NaN</td>\n",
       "      <td>NaN</td>\n",
       "      <td>84.0</td>\n",
       "      <td>NaN</td>\n",
       "    </tr>\n",
       "    <tr>\n",
       "      <th>Exam3</th>\n",
       "      <td>85.0</td>\n",
       "      <td>NaN</td>\n",
       "      <td>82.0</td>\n",
       "      <td>NaN</td>\n",
       "      <td>89.0</td>\n",
       "    </tr>\n",
       "  </tbody>\n",
       "</table>\n",
       "</div>"
      ],
      "text/plain": [
       "       will  jarrod  caleb  shawn  justin\n",
       "Exam1   NaN    88.0   86.0    NaN     NaN\n",
       "Exam2   NaN     NaN    NaN   84.0     NaN\n",
       "Exam3  85.0     NaN   82.0    NaN    89.0"
      ]
     },
     "execution_count": 77,
     "metadata": {},
     "output_type": "execute_result"
    }
   ],
   "source": [
    "scores[(scores>80) & (scores<90)]"
   ]
  },
  {
   "cell_type": "code",
   "execution_count": 83,
   "id": "ecc2fe93-8c54-4ed4-914f-281b91fcfc46",
   "metadata": {},
   "outputs": [
    {
     "data": {
      "text/plain": [
       "78"
      ]
     },
     "execution_count": 83,
     "metadata": {},
     "output_type": "execute_result"
    }
   ],
   "source": [
    "scores.at['Exam2','caleb']"
   ]
  },
  {
   "cell_type": "code",
   "execution_count": 84,
   "id": "e7d4d3ad-ec62-479c-9a26-7dfc507d7732",
   "metadata": {},
   "outputs": [
    {
     "data": {
      "text/plain": [
       "89"
      ]
     },
     "execution_count": 84,
     "metadata": {},
     "output_type": "execute_result"
    }
   ],
   "source": [
    "scores.at['Exam3','justin']"
   ]
  },
  {
   "cell_type": "code",
   "execution_count": 85,
   "id": "84e22359-8f9e-4478-8f5e-f4b04dd06841",
   "metadata": {},
   "outputs": [
    {
     "data": {
      "text/plain": [
       "85"
      ]
     },
     "execution_count": 85,
     "metadata": {},
     "output_type": "execute_result"
    }
   ],
   "source": [
    "scores.iat[2,0]"
   ]
  },
  {
   "cell_type": "code",
   "execution_count": 89,
   "id": "ebcc0c53-22f1-49ca-95eb-fa639b2e22ee",
   "metadata": {},
   "outputs": [
    {
     "data": {
      "text/plain": [
       "76"
      ]
     },
     "execution_count": 89,
     "metadata": {},
     "output_type": "execute_result"
    }
   ],
   "source": [
    "scores.iat[0,3]"
   ]
  },
  {
   "cell_type": "code",
   "execution_count": 90,
   "id": "310b441a-b34f-48da-9f1e-6fa3c2c852d3",
   "metadata": {},
   "outputs": [],
   "source": [
    "scores.at['Exam2','shawn']=100"
   ]
  },
  {
   "cell_type": "code",
   "execution_count": 91,
   "id": "ddee6b48-cca0-4e1e-9c8e-ff82de46378e",
   "metadata": {},
   "outputs": [
    {
     "data": {
      "text/plain": [
       "100"
      ]
     },
     "execution_count": 91,
     "metadata": {},
     "output_type": "execute_result"
    }
   ],
   "source": [
    "scores.at['Exam2','shawn']"
   ]
  },
  {
   "cell_type": "code",
   "execution_count": 92,
   "id": "b8a11499-623e-4f64-9ce8-c9d986a15f96",
   "metadata": {},
   "outputs": [
    {
     "data": {
      "text/html": [
       "<div>\n",
       "<style scoped>\n",
       "    .dataframe tbody tr th:only-of-type {\n",
       "        vertical-align: middle;\n",
       "    }\n",
       "\n",
       "    .dataframe tbody tr th {\n",
       "        vertical-align: top;\n",
       "    }\n",
       "\n",
       "    .dataframe thead th {\n",
       "        text-align: right;\n",
       "    }\n",
       "</style>\n",
       "<table border=\"1\" class=\"dataframe\">\n",
       "  <thead>\n",
       "    <tr style=\"text-align: right;\">\n",
       "      <th></th>\n",
       "      <th>will</th>\n",
       "      <th>jarrod</th>\n",
       "      <th>caleb</th>\n",
       "      <th>shawn</th>\n",
       "      <th>justin</th>\n",
       "    </tr>\n",
       "  </thead>\n",
       "  <tbody>\n",
       "    <tr>\n",
       "      <th>count</th>\n",
       "      <td>3.0</td>\n",
       "      <td>3.000000</td>\n",
       "      <td>3.0</td>\n",
       "      <td>3.000000</td>\n",
       "      <td>3.000000</td>\n",
       "    </tr>\n",
       "    <tr>\n",
       "      <th>mean</th>\n",
       "      <td>85.0</td>\n",
       "      <td>91.666667</td>\n",
       "      <td>82.0</td>\n",
       "      <td>85.333333</td>\n",
       "      <td>91.666667</td>\n",
       "    </tr>\n",
       "    <tr>\n",
       "      <th>std</th>\n",
       "      <td>5.0</td>\n",
       "      <td>3.511885</td>\n",
       "      <td>4.0</td>\n",
       "      <td>12.858201</td>\n",
       "      <td>3.055050</td>\n",
       "    </tr>\n",
       "    <tr>\n",
       "      <th>min</th>\n",
       "      <td>80.0</td>\n",
       "      <td>88.000000</td>\n",
       "      <td>78.0</td>\n",
       "      <td>76.000000</td>\n",
       "      <td>89.000000</td>\n",
       "    </tr>\n",
       "    <tr>\n",
       "      <th>25%</th>\n",
       "      <td>82.5</td>\n",
       "      <td>90.000000</td>\n",
       "      <td>80.0</td>\n",
       "      <td>78.000000</td>\n",
       "      <td>90.000000</td>\n",
       "    </tr>\n",
       "    <tr>\n",
       "      <th>50%</th>\n",
       "      <td>85.0</td>\n",
       "      <td>92.000000</td>\n",
       "      <td>82.0</td>\n",
       "      <td>80.000000</td>\n",
       "      <td>91.000000</td>\n",
       "    </tr>\n",
       "    <tr>\n",
       "      <th>75%</th>\n",
       "      <td>87.5</td>\n",
       "      <td>93.500000</td>\n",
       "      <td>84.0</td>\n",
       "      <td>90.000000</td>\n",
       "      <td>93.000000</td>\n",
       "    </tr>\n",
       "    <tr>\n",
       "      <th>max</th>\n",
       "      <td>90.0</td>\n",
       "      <td>95.000000</td>\n",
       "      <td>86.0</td>\n",
       "      <td>100.000000</td>\n",
       "      <td>95.000000</td>\n",
       "    </tr>\n",
       "  </tbody>\n",
       "</table>\n",
       "</div>"
      ],
      "text/plain": [
       "       will     jarrod  caleb       shawn     justin\n",
       "count   3.0   3.000000    3.0    3.000000   3.000000\n",
       "mean   85.0  91.666667   82.0   85.333333  91.666667\n",
       "std     5.0   3.511885    4.0   12.858201   3.055050\n",
       "min    80.0  88.000000   78.0   76.000000  89.000000\n",
       "25%    82.5  90.000000   80.0   78.000000  90.000000\n",
       "50%    85.0  92.000000   82.0   80.000000  91.000000\n",
       "75%    87.5  93.500000   84.0   90.000000  93.000000\n",
       "max    90.0  95.000000   86.0  100.000000  95.000000"
      ]
     },
     "execution_count": 92,
     "metadata": {},
     "output_type": "execute_result"
    }
   ],
   "source": [
    "scores.describe()"
   ]
  },
  {
   "cell_type": "code",
   "execution_count": 94,
   "id": "8e36e66e-5d60-4fc9-8729-be1531cb7164",
   "metadata": {},
   "outputs": [
    {
     "data": {
      "text/plain": [
       "will      85.000000\n",
       "jarrod    91.666667\n",
       "caleb     82.000000\n",
       "shawn     85.333333\n",
       "justin    91.666667\n",
       "dtype: float64"
      ]
     },
     "execution_count": 94,
     "metadata": {},
     "output_type": "execute_result"
    }
   ],
   "source": [
    "scores.mean()"
   ]
  },
  {
   "cell_type": "code",
   "execution_count": 95,
   "id": "49dbb99c-1625-495a-95b7-eb8e537bb458",
   "metadata": {},
   "outputs": [
    {
     "data": {
      "text/html": [
       "<div>\n",
       "<style scoped>\n",
       "    .dataframe tbody tr th:only-of-type {\n",
       "        vertical-align: middle;\n",
       "    }\n",
       "\n",
       "    .dataframe tbody tr th {\n",
       "        vertical-align: top;\n",
       "    }\n",
       "\n",
       "    .dataframe thead th {\n",
       "        text-align: right;\n",
       "    }\n",
       "</style>\n",
       "<table border=\"1\" class=\"dataframe\">\n",
       "  <thead>\n",
       "    <tr style=\"text-align: right;\">\n",
       "      <th></th>\n",
       "      <th>Exam1</th>\n",
       "      <th>Exam2</th>\n",
       "      <th>Exam3</th>\n",
       "    </tr>\n",
       "  </thead>\n",
       "  <tbody>\n",
       "    <tr>\n",
       "      <th>will</th>\n",
       "      <td>90</td>\n",
       "      <td>80</td>\n",
       "      <td>85</td>\n",
       "    </tr>\n",
       "    <tr>\n",
       "      <th>jarrod</th>\n",
       "      <td>88</td>\n",
       "      <td>92</td>\n",
       "      <td>95</td>\n",
       "    </tr>\n",
       "    <tr>\n",
       "      <th>caleb</th>\n",
       "      <td>86</td>\n",
       "      <td>78</td>\n",
       "      <td>82</td>\n",
       "    </tr>\n",
       "    <tr>\n",
       "      <th>shawn</th>\n",
       "      <td>76</td>\n",
       "      <td>100</td>\n",
       "      <td>80</td>\n",
       "    </tr>\n",
       "    <tr>\n",
       "      <th>justin</th>\n",
       "      <td>95</td>\n",
       "      <td>91</td>\n",
       "      <td>89</td>\n",
       "    </tr>\n",
       "  </tbody>\n",
       "</table>\n",
       "</div>"
      ],
      "text/plain": [
       "        Exam1  Exam2  Exam3\n",
       "will       90     80     85\n",
       "jarrod     88     92     95\n",
       "caleb      86     78     82\n",
       "shawn      76    100     80\n",
       "justin     95     91     89"
      ]
     },
     "execution_count": 95,
     "metadata": {},
     "output_type": "execute_result"
    }
   ],
   "source": [
    "scores.T"
   ]
  },
  {
   "cell_type": "code",
   "execution_count": 97,
   "id": "85d235e5-a2a9-4727-87b2-ee2a410a4714",
   "metadata": {},
   "outputs": [
    {
     "data": {
      "text/html": [
       "<div>\n",
       "<style scoped>\n",
       "    .dataframe tbody tr th:only-of-type {\n",
       "        vertical-align: middle;\n",
       "    }\n",
       "\n",
       "    .dataframe tbody tr th {\n",
       "        vertical-align: top;\n",
       "    }\n",
       "\n",
       "    .dataframe thead th {\n",
       "        text-align: right;\n",
       "    }\n",
       "</style>\n",
       "<table border=\"1\" class=\"dataframe\">\n",
       "  <thead>\n",
       "    <tr style=\"text-align: right;\">\n",
       "      <th></th>\n",
       "      <th>Exam1</th>\n",
       "      <th>Exam2</th>\n",
       "      <th>Exam3</th>\n",
       "    </tr>\n",
       "  </thead>\n",
       "  <tbody>\n",
       "    <tr>\n",
       "      <th>count</th>\n",
       "      <td>5.0</td>\n",
       "      <td>5.000000</td>\n",
       "      <td>5.000000</td>\n",
       "    </tr>\n",
       "    <tr>\n",
       "      <th>mean</th>\n",
       "      <td>87.0</td>\n",
       "      <td>88.200000</td>\n",
       "      <td>86.200000</td>\n",
       "    </tr>\n",
       "    <tr>\n",
       "      <th>std</th>\n",
       "      <td>7.0</td>\n",
       "      <td>9.121403</td>\n",
       "      <td>5.974948</td>\n",
       "    </tr>\n",
       "    <tr>\n",
       "      <th>min</th>\n",
       "      <td>76.0</td>\n",
       "      <td>78.000000</td>\n",
       "      <td>80.000000</td>\n",
       "    </tr>\n",
       "    <tr>\n",
       "      <th>25%</th>\n",
       "      <td>86.0</td>\n",
       "      <td>80.000000</td>\n",
       "      <td>82.000000</td>\n",
       "    </tr>\n",
       "    <tr>\n",
       "      <th>50%</th>\n",
       "      <td>88.0</td>\n",
       "      <td>91.000000</td>\n",
       "      <td>85.000000</td>\n",
       "    </tr>\n",
       "    <tr>\n",
       "      <th>75%</th>\n",
       "      <td>90.0</td>\n",
       "      <td>92.000000</td>\n",
       "      <td>89.000000</td>\n",
       "    </tr>\n",
       "    <tr>\n",
       "      <th>max</th>\n",
       "      <td>95.0</td>\n",
       "      <td>100.000000</td>\n",
       "      <td>95.000000</td>\n",
       "    </tr>\n",
       "  </tbody>\n",
       "</table>\n",
       "</div>"
      ],
      "text/plain": [
       "       Exam1       Exam2      Exam3\n",
       "count    5.0    5.000000   5.000000\n",
       "mean    87.0   88.200000  86.200000\n",
       "std      7.0    9.121403   5.974948\n",
       "min     76.0   78.000000  80.000000\n",
       "25%     86.0   80.000000  82.000000\n",
       "50%     88.0   91.000000  85.000000\n",
       "75%     90.0   92.000000  89.000000\n",
       "max     95.0  100.000000  95.000000"
      ]
     },
     "execution_count": 97,
     "metadata": {},
     "output_type": "execute_result"
    }
   ],
   "source": [
    "scores.T.describe()"
   ]
  },
  {
   "cell_type": "code",
   "execution_count": 98,
   "id": "39a24c26-4a56-4cd3-a7d5-0d43f4759bb0",
   "metadata": {},
   "outputs": [
    {
     "data": {
      "text/plain": [
       "Exam1    87.0\n",
       "Exam2    88.2\n",
       "Exam3    86.2\n",
       "dtype: float64"
      ]
     },
     "execution_count": 98,
     "metadata": {},
     "output_type": "execute_result"
    }
   ],
   "source": [
    "scores.T.mean()"
   ]
  },
  {
   "cell_type": "code",
   "execution_count": 99,
   "id": "dbb0daa9-f23d-41ad-b492-5cce2be06952",
   "metadata": {},
   "outputs": [
    {
     "data": {
      "text/html": [
       "<div>\n",
       "<style scoped>\n",
       "    .dataframe tbody tr th:only-of-type {\n",
       "        vertical-align: middle;\n",
       "    }\n",
       "\n",
       "    .dataframe tbody tr th {\n",
       "        vertical-align: top;\n",
       "    }\n",
       "\n",
       "    .dataframe thead th {\n",
       "        text-align: right;\n",
       "    }\n",
       "</style>\n",
       "<table border=\"1\" class=\"dataframe\">\n",
       "  <thead>\n",
       "    <tr style=\"text-align: right;\">\n",
       "      <th></th>\n",
       "      <th>will</th>\n",
       "      <th>jarrod</th>\n",
       "      <th>caleb</th>\n",
       "      <th>shawn</th>\n",
       "      <th>justin</th>\n",
       "    </tr>\n",
       "  </thead>\n",
       "  <tbody>\n",
       "    <tr>\n",
       "      <th>Exam3</th>\n",
       "      <td>85</td>\n",
       "      <td>95</td>\n",
       "      <td>82</td>\n",
       "      <td>80</td>\n",
       "      <td>89</td>\n",
       "    </tr>\n",
       "    <tr>\n",
       "      <th>Exam2</th>\n",
       "      <td>80</td>\n",
       "      <td>92</td>\n",
       "      <td>78</td>\n",
       "      <td>100</td>\n",
       "      <td>91</td>\n",
       "    </tr>\n",
       "    <tr>\n",
       "      <th>Exam1</th>\n",
       "      <td>90</td>\n",
       "      <td>88</td>\n",
       "      <td>86</td>\n",
       "      <td>76</td>\n",
       "      <td>95</td>\n",
       "    </tr>\n",
       "  </tbody>\n",
       "</table>\n",
       "</div>"
      ],
      "text/plain": [
       "       will  jarrod  caleb  shawn  justin\n",
       "Exam3    85      95     82     80      89\n",
       "Exam2    80      92     78    100      91\n",
       "Exam1    90      88     86     76      95"
      ]
     },
     "execution_count": 99,
     "metadata": {},
     "output_type": "execute_result"
    }
   ],
   "source": [
    "scores.sort_index(ascending =False)"
   ]
  },
  {
   "cell_type": "code",
   "execution_count": 100,
   "id": "7f3a0772-454a-4017-b26a-d1e1da9b4a79",
   "metadata": {},
   "outputs": [
    {
     "data": {
      "text/html": [
       "<div>\n",
       "<style scoped>\n",
       "    .dataframe tbody tr th:only-of-type {\n",
       "        vertical-align: middle;\n",
       "    }\n",
       "\n",
       "    .dataframe tbody tr th {\n",
       "        vertical-align: top;\n",
       "    }\n",
       "\n",
       "    .dataframe thead th {\n",
       "        text-align: right;\n",
       "    }\n",
       "</style>\n",
       "<table border=\"1\" class=\"dataframe\">\n",
       "  <thead>\n",
       "    <tr style=\"text-align: right;\">\n",
       "      <th></th>\n",
       "      <th>caleb</th>\n",
       "      <th>jarrod</th>\n",
       "      <th>justin</th>\n",
       "      <th>shawn</th>\n",
       "      <th>will</th>\n",
       "    </tr>\n",
       "  </thead>\n",
       "  <tbody>\n",
       "    <tr>\n",
       "      <th>Exam1</th>\n",
       "      <td>86</td>\n",
       "      <td>88</td>\n",
       "      <td>95</td>\n",
       "      <td>76</td>\n",
       "      <td>90</td>\n",
       "    </tr>\n",
       "    <tr>\n",
       "      <th>Exam2</th>\n",
       "      <td>78</td>\n",
       "      <td>92</td>\n",
       "      <td>91</td>\n",
       "      <td>100</td>\n",
       "      <td>80</td>\n",
       "    </tr>\n",
       "    <tr>\n",
       "      <th>Exam3</th>\n",
       "      <td>82</td>\n",
       "      <td>95</td>\n",
       "      <td>89</td>\n",
       "      <td>80</td>\n",
       "      <td>85</td>\n",
       "    </tr>\n",
       "  </tbody>\n",
       "</table>\n",
       "</div>"
      ],
      "text/plain": [
       "       caleb  jarrod  justin  shawn  will\n",
       "Exam1     86      88      95     76    90\n",
       "Exam2     78      92      91    100    80\n",
       "Exam3     82      95      89     80    85"
      ]
     },
     "execution_count": 100,
     "metadata": {},
     "output_type": "execute_result"
    }
   ],
   "source": [
    "scores.sort_index(axis =1)"
   ]
  },
  {
   "cell_type": "code",
   "execution_count": 101,
   "id": "e1edefe8-8aec-4e86-876b-32841a92db65",
   "metadata": {},
   "outputs": [
    {
     "data": {
      "text/html": [
       "<div>\n",
       "<style scoped>\n",
       "    .dataframe tbody tr th:only-of-type {\n",
       "        vertical-align: middle;\n",
       "    }\n",
       "\n",
       "    .dataframe tbody tr th {\n",
       "        vertical-align: top;\n",
       "    }\n",
       "\n",
       "    .dataframe thead th {\n",
       "        text-align: right;\n",
       "    }\n",
       "</style>\n",
       "<table border=\"1\" class=\"dataframe\">\n",
       "  <thead>\n",
       "    <tr style=\"text-align: right;\">\n",
       "      <th></th>\n",
       "      <th>shawn</th>\n",
       "      <th>jarrod</th>\n",
       "      <th>justin</th>\n",
       "      <th>will</th>\n",
       "      <th>caleb</th>\n",
       "    </tr>\n",
       "  </thead>\n",
       "  <tbody>\n",
       "    <tr>\n",
       "      <th>Exam1</th>\n",
       "      <td>76</td>\n",
       "      <td>88</td>\n",
       "      <td>95</td>\n",
       "      <td>90</td>\n",
       "      <td>86</td>\n",
       "    </tr>\n",
       "    <tr>\n",
       "      <th>Exam2</th>\n",
       "      <td>100</td>\n",
       "      <td>92</td>\n",
       "      <td>91</td>\n",
       "      <td>80</td>\n",
       "      <td>78</td>\n",
       "    </tr>\n",
       "    <tr>\n",
       "      <th>Exam3</th>\n",
       "      <td>80</td>\n",
       "      <td>95</td>\n",
       "      <td>89</td>\n",
       "      <td>85</td>\n",
       "      <td>82</td>\n",
       "    </tr>\n",
       "  </tbody>\n",
       "</table>\n",
       "</div>"
      ],
      "text/plain": [
       "       shawn  jarrod  justin  will  caleb\n",
       "Exam1     76      88      95    90     86\n",
       "Exam2    100      92      91    80     78\n",
       "Exam3     80      95      89    85     82"
      ]
     },
     "execution_count": 101,
     "metadata": {},
     "output_type": "execute_result"
    }
   ],
   "source": [
    "scores.sort_values(by='Exam2', axis=1, ascending=False)"
   ]
  },
  {
   "cell_type": "code",
   "execution_count": 102,
   "id": "87a3b329-e8f1-4439-bf41-d95c02e2350a",
   "metadata": {},
   "outputs": [
    {
     "data": {
      "text/html": [
       "<div>\n",
       "<style scoped>\n",
       "    .dataframe tbody tr th:only-of-type {\n",
       "        vertical-align: middle;\n",
       "    }\n",
       "\n",
       "    .dataframe tbody tr th {\n",
       "        vertical-align: top;\n",
       "    }\n",
       "\n",
       "    .dataframe thead th {\n",
       "        text-align: right;\n",
       "    }\n",
       "</style>\n",
       "<table border=\"1\" class=\"dataframe\">\n",
       "  <thead>\n",
       "    <tr style=\"text-align: right;\">\n",
       "      <th></th>\n",
       "      <th>Exam1</th>\n",
       "      <th>Exam2</th>\n",
       "      <th>Exam3</th>\n",
       "    </tr>\n",
       "  </thead>\n",
       "  <tbody>\n",
       "    <tr>\n",
       "      <th>jarrod</th>\n",
       "      <td>88</td>\n",
       "      <td>92</td>\n",
       "      <td>95</td>\n",
       "    </tr>\n",
       "    <tr>\n",
       "      <th>justin</th>\n",
       "      <td>95</td>\n",
       "      <td>91</td>\n",
       "      <td>89</td>\n",
       "    </tr>\n",
       "    <tr>\n",
       "      <th>will</th>\n",
       "      <td>90</td>\n",
       "      <td>80</td>\n",
       "      <td>85</td>\n",
       "    </tr>\n",
       "    <tr>\n",
       "      <th>caleb</th>\n",
       "      <td>86</td>\n",
       "      <td>78</td>\n",
       "      <td>82</td>\n",
       "    </tr>\n",
       "    <tr>\n",
       "      <th>shawn</th>\n",
       "      <td>76</td>\n",
       "      <td>100</td>\n",
       "      <td>80</td>\n",
       "    </tr>\n",
       "  </tbody>\n",
       "</table>\n",
       "</div>"
      ],
      "text/plain": [
       "        Exam1  Exam2  Exam3\n",
       "jarrod     88     92     95\n",
       "justin     95     91     89\n",
       "will       90     80     85\n",
       "caleb      86     78     82\n",
       "shawn      76    100     80"
      ]
     },
     "execution_count": 102,
     "metadata": {},
     "output_type": "execute_result"
    }
   ],
   "source": [
    "scores.T.sort_values(by ='Exam3', ascending = False)"
   ]
  },
  {
   "cell_type": "code",
   "execution_count": 103,
   "id": "7a51a531-5d4d-4450-bf73-9ee35cd991c6",
   "metadata": {},
   "outputs": [
    {
     "data": {
      "text/plain": [
       "jarrod    95\n",
       "justin    89\n",
       "will      85\n",
       "caleb     82\n",
       "shawn     80\n",
       "Name: Exam3, dtype: int64"
      ]
     },
     "execution_count": 103,
     "metadata": {},
     "output_type": "execute_result"
    }
   ],
   "source": [
    "scores.loc['Exam3'].sort_values(ascending = False)"
   ]
  },
  {
   "cell_type": "code",
   "execution_count": null,
   "id": "852778a2-766d-48fd-8966-9a20a9b977fb",
   "metadata": {},
   "outputs": [],
   "source": []
  }
 ],
 "metadata": {
  "kernelspec": {
   "display_name": "Python 3",
   "language": "python",
   "name": "python3"
  },
  "language_info": {
   "codemirror_mode": {
    "name": "ipython",
    "version": 3
   },
   "file_extension": ".py",
   "mimetype": "text/x-python",
   "name": "python",
   "nbconvert_exporter": "python",
   "pygments_lexer": "ipython3",
   "version": "3.10.9 (v3.10.9:1dd9be6584, Dec  6 2022, 14:37:36) [Clang 13.0.0 (clang-1300.0.29.30)]"
  },
  "vscode": {
   "interpreter": {
    "hash": "aee8b7b246df8f9039afb4144a1f6fd8d2ca17a180786b69acc140d282b71a49"
   }
  }
 },
 "nbformat": 4,
 "nbformat_minor": 5
}
