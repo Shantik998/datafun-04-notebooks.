{
 "cells": [
  {
   "cell_type": "markdown",
   "id": "62c382a6-0642-4d1a-b1fb-98612ffcd224",
   "metadata": {},
   "source": [
    "## Shanti Kandel - Xtra point task\n",
    "## 02/05/2023"
   ]
  },
  {
   "cell_type": "code",
   "execution_count": null,
   "id": "ff667251-686b-49e0-a857-f20daaa4f7b2",
   "metadata": {},
   "outputs": [
    {
     "ename": "",
     "evalue": "",
     "output_type": "error",
     "traceback": [
      "\u001b[1;31mRunning cells with '/usr/local/bin/python3' requires ipykernel package.\n",
      "\u001b[1;31mRun the following command to install 'ipykernel' into the Python environment. \n",
      "\u001b[1;31mCommand: '/usr/local/bin/python3 -m pip install ipykernel -U --user --force-reinstall'"
     ]
    }
   ],
   "source": [
    "contacts = [['Mike Green', 'demo1@deitel.com', '5555555555'],\n",
    "           ['Sue Brown', 'demo2@deitel.com', '5555551234']]"
   ]
  },
  {
   "cell_type": "code",
   "execution_count": null,
   "id": "32fc3479-5060-4bd9-85c0-5261fd3e2ab3",
   "metadata": {},
   "outputs": [
    {
     "ename": "",
     "evalue": "",
     "output_type": "error",
     "traceback": [
      "\u001b[1;31mRunning cells with '/usr/local/bin/python3' requires ipykernel package.\n",
      "\u001b[1;31mRun the following command to install 'ipykernel' into the Python environment. \n",
      "\u001b[1;31mCommand: '/usr/local/bin/python3 -m pip install ipykernel -U --user --force-reinstall'"
     ]
    }
   ],
   "source": [
    "import pandas as pd"
   ]
  },
  {
   "cell_type": "markdown",
   "id": "347c5111-e0a0-4722-ba05-a778c678d035",
   "metadata": {},
   "source": [
    "Reformatting the data /converting list to a dataframe"
   ]
  },
  {
   "cell_type": "code",
   "execution_count": null,
   "id": "37c6c810-6cb6-4939-9ba0-12c862ba7608",
   "metadata": {},
   "outputs": [
    {
     "ename": "",
     "evalue": "",
     "output_type": "error",
     "traceback": [
      "\u001b[1;31mRunning cells with '/usr/local/bin/python3' requires ipykernel package.\n",
      "\u001b[1;31mRun the following command to install 'ipykernel' into the Python environment. \n",
      "\u001b[1;31mCommand: '/usr/local/bin/python3 -m pip install ipykernel -U --user --force-reinstall'"
     ]
    }
   ],
   "source": [
    "contactsdf = pd.DataFrame(contacts, columns=['Name', 'Email', 'Phone'])\n",
    "contactsdf"
   ]
  },
  {
   "cell_type": "markdown",
   "id": "cfc9a763-78e2-4f55-ac26-72d16bac5305",
   "metadata": {},
   "source": [
    "Importing 're' library and creating function to format phone numbers"
   ]
  },
  {
   "cell_type": "code",
   "execution_count": null,
   "id": "fe9fa019-af2f-4179-ad81-8af5c5447ffc",
   "metadata": {},
   "outputs": [
    {
     "ename": "",
     "evalue": "",
     "output_type": "error",
     "traceback": [
      "\u001b[1;31mRunning cells with '/usr/local/bin/python3' requires ipykernel package.\n",
      "\u001b[1;31mRun the following command to install 'ipykernel' into the Python environment. \n",
      "\u001b[1;31mCommand: '/usr/local/bin/python3 -m pip install ipykernel -U --user --force-reinstall'"
     ]
    }
   ],
   "source": [
    "import re\n",
    "def get_formatted_phone(value):\n",
    "    result = re.fullmatch(r'(\\d{3})(\\d{3})(\\d{4})', value)\n",
    "    return '-'.join(result.groups()) if result else value"
   ]
  },
  {
   "cell_type": "markdown",
   "id": "2ac45a5d-e59c-4092-9e28-0b5e68973454",
   "metadata": {},
   "source": [
    "Formatting phone number"
   ]
  },
  {
   "cell_type": "code",
   "execution_count": null,
   "id": "d658e630-e04a-42b8-887e-dbbee8c7d087",
   "metadata": {},
   "outputs": [
    {
     "ename": "",
     "evalue": "",
     "output_type": "error",
     "traceback": [
      "\u001b[1;31mRunning cells with '/usr/local/bin/python3' requires ipykernel package.\n",
      "\u001b[1;31mRun the following command to install 'ipykernel' into the Python environment. \n",
      "\u001b[1;31mCommand: '/usr/local/bin/python3 -m pip install ipykernel -U --user --force-reinstall'"
     ]
    }
   ],
   "source": [
    "formatted_phone = contactsdf.Phone.map(get_formatted_phone)\n",
    "formatted_phone"
   ]
  },
  {
   "cell_type": "code",
   "execution_count": null,
   "id": "e1148e78-959b-4699-823e-c8566bcaa985",
   "metadata": {},
   "outputs": [
    {
     "ename": "",
     "evalue": "",
     "output_type": "error",
     "traceback": [
      "\u001b[1;31mRunning cells with '/usr/local/bin/python3' requires ipykernel package.\n",
      "\u001b[1;31mRun the following command to install 'ipykernel' into the Python environment. \n",
      "\u001b[1;31mCommand: '/usr/local/bin/python3 -m pip install ipykernel -U --user --force-reinstall'"
     ]
    }
   ],
   "source": [
    "contactsdf.Phone = formatted_phone\n",
    "contactsdf"
   ]
  },
  {
   "cell_type": "code",
   "execution_count": null,
   "id": "38ccd892-becd-4940-8e84-465ee31cef24",
   "metadata": {},
   "outputs": [],
   "source": [
    "the end"
   ]
  }
 ],
 "metadata": {
  "kernelspec": {
   "display_name": "Python 3",
   "language": "python",
   "name": "python3"
  },
  "language_info": {
   "codemirror_mode": {
    "name": "ipython",
    "version": 3
   },
   "file_extension": ".py",
   "mimetype": "text/x-python",
   "name": "python",
   "nbconvert_exporter": "python",
   "pygments_lexer": "ipython3",
   "version": "3.10.9 (v3.10.9:1dd9be6584, Dec  6 2022, 14:37:36) [Clang 13.0.0 (clang-1300.0.29.30)]"
  },
  "vscode": {
   "interpreter": {
    "hash": "aee8b7b246df8f9039afb4144a1f6fd8d2ca17a180786b69acc140d282b71a49"
   }
  }
 },
 "nbformat": 4,
 "nbformat_minor": 5
}
